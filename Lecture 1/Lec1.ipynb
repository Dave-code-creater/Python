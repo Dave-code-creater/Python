{
 "cells": [
  {
   "cell_type": "markdown",
   "metadata": {},
   "source": [
    "# Introduction to Python\n",
    "\n",
    "Python is a high-level, interpreted programming language known for its simplicity and readability. Created by Guido van Rossum and first released in 1991, Python has a design philosophy that emphasizes code readability and a syntax that allows programmers to express concepts in fewer lines of code.\n",
    "\n",
    "## Key Features of Python\n",
    "\n",
    "- **Easy to Learn and Use**: Python's syntax is clear and easy to understand, making it an excellent choice for beginners.\n",
    "- **Interpreted Language**: Python code is executed line by line, which makes debugging easier.\n",
    "- **Versatile**: Python can be used for web development, data analysis, artificial intelligence, scientific computing, and more.\n",
    "- **Extensive Libraries**: Python has a rich set of libraries and frameworks that facilitate various types of programming tasks.\n",
    "- **Community Support**: Python has a large and active community that contributes to its development and provides support to other users.\n",
    "\n",
    "## Getting Started with Python\n",
    "\n",
    "To start coding in Python, you need to install the Python interpreter and an Integrated Development Environment (IDE) or text editor. Popular choices include PyCharm, VSCode, and Jupyter Notebook."
   ]
  },
  {
   "cell_type": "code",
   "execution_count": 1,
   "metadata": {},
   "outputs": [
    {
     "name": "stdout",
     "output_type": "stream",
     "text": [
      "Hello, World!\n",
      "The sum of 10 and 5 is 15\n"
     ]
    }
   ],
   "source": [
    "# Print Hello, World!\n",
    "print(\"Hello, World!\")\n",
    "\n",
    "# Perform a simple arithmetic operation\n",
    "a = 10\n",
    "b = 5\n",
    "sum = a + b\n",
    "print(\"The sum of\", a, \"and\", b, \"is\", sum)"
   ]
  },
  {
   "cell_type": "code",
   "execution_count": 2,
   "metadata": {},
   "outputs": [
    {
     "name": "stdout",
     "output_type": "stream",
     "text": [
      "\n",
      "Numbers: x = 10 , y = 3\n",
      "Addition: 13\n",
      "Subtraction: 7\n",
      "Multiplication: 30\n",
      "Division: 3.3333333333333335\n",
      "Floor Division: 3\n",
      "Modulus: 1\n",
      "Exponentiation: 1000\n"
     ]
    }
   ],
   "source": [
    "# Number operations\n",
    "x = 10\n",
    "y = 3\n",
    "print(\"\\nNumbers: x =\", x, \", y =\", y)\n",
    "print(\"Addition:\", x + y)\n",
    "print(\"Subtraction:\", x - y)\n",
    "print(\"Multiplication:\", x * y)\n",
    "print(\"Division:\", x / y)\n",
    "print(\"Floor Division:\", x // y)\n",
    "print(\"Modulus:\", x % y)\n",
    "print(\"Exponentiation:\", x ** y)"
   ]
  },
  {
   "cell_type": "code",
   "execution_count": 3,
   "metadata": {},
   "outputs": [
    {
     "name": "stdout",
     "output_type": "stream",
     "text": [
      "Original String: Hello, Python!\n",
      "Uppercase: HELLO, PYTHON!\n",
      "Lowercase: hello, python!\n",
      "Replace 'Python' with 'World': Hello, World!\n",
      "Split string: ['Hello', ' Python!']\n"
     ]
    }
   ],
   "source": [
    "# String operations\n",
    "my_string = \"Hello, Python!\"\n",
    "print(\"Original String:\", my_string)\n",
    "print(\"Uppercase:\", my_string.upper())\n",
    "print(\"Lowercase:\", my_string.lower())\n",
    "print(\"Replace 'Python' with 'World':\", my_string.replace(\"Python\", \"World\"))\n",
    "print(\"Split string:\", my_string.split(\",\"))\n"
   ]
  },
  {
   "cell_type": "code",
   "execution_count": 4,
   "metadata": {},
   "outputs": [
    {
     "name": "stdout",
     "output_type": "stream",
     "text": [
      "\n",
      "Original List: [1, 2, 3, 4, 5]\n",
      "List after appending 6: [1, 2, 3, 4, 5, 6]\n",
      "List after removing 3: [1, 2, 4, 5, 6]\n",
      "List slicing (first 3 elements): [1, 2, 4]\n",
      "List reversed: [6, 5, 4, 2, 1]\n"
     ]
    }
   ],
   "source": [
    "\n",
    "# List operations\n",
    "my_list = [1, 2, 3, 4, 5]\n",
    "print(\"\\nOriginal List:\", my_list)\n",
    "my_list.append(6)\n",
    "print(\"List after appending 6:\", my_list)\n",
    "my_list.remove(3)\n",
    "print(\"List after removing 3:\", my_list)\n",
    "print(\"List slicing (first 3 elements):\", my_list[:3])\n",
    "print(\"List reversed:\", my_list[::-1])\n",
    "\n"
   ]
  },
  {
   "cell_type": "code",
   "execution_count": 5,
   "metadata": {},
   "outputs": [
    {
     "name": "stdout",
     "output_type": "stream",
     "text": [
      "Hello, my name is Alice and I am 30 years old.\n"
     ]
    }
   ],
   "source": [
    "class Person:\n",
    "    def __init__(self, name, age):\n",
    "        self.name = name\n",
    "        self.age = age\n",
    "\n",
    "    def greet(self):\n",
    "        return f\"Hello, my name is {self.name} and I am {self.age} years old.\"\n",
    "\n",
    "# Create an instance of the Person class\n",
    "person1 = Person(\"Alice\", 30)\n",
    "print(person1.greet())"
   ]
  },
  {
   "cell_type": "code",
   "execution_count": 7,
   "metadata": {},
   "outputs": [
    {
     "name": "stdout",
     "output_type": "stream",
     "text": [
      "Numpy Array: [1 2 3 4 5]\n",
      "\n",
      "Pandas DataFrame:\n",
      "       Name  Age\n",
      "0    Alice   25\n",
      "1      Bob   30\n",
      "2  Charlie   35\n"
     ]
    }
   ],
   "source": [
    "import numpy as np\n",
    "import pandas as pd\n",
    "\n",
    "# Create a numpy array\n",
    "array = np.array([1, 2, 3, 4, 5])\n",
    "print(\"Numpy Array:\", array)\n",
    "\n",
    "# Create a pandas dataframe\n",
    "df = pd.DataFrame({'Name': ['Alice', 'Bob', 'Charlie'], 'Age': [25, 30, 35]})\n",
    "print(\"\\nPandas DataFrame:\\n\", df)"
   ]
  },
  {
   "cell_type": "markdown",
   "metadata": {},
   "source": [
    "## Conclusion\n",
    "\n",
    "Python is a versatile and powerful programming language that is easy to learn and use. Its clear syntax and readability make it an excellent choice for beginners, while its extensive libraries and frameworks support a wide range of programming tasks, from web development to data analysis and scientific computing. With a large and active community, Python continues to grow and evolve, making it a valuable tool for developers and programmers around the world."
   ]
  }
 ],
 "metadata": {
  "kernelspec": {
   "display_name": "venv",
   "language": "python",
   "name": "python3"
  },
  "language_info": {
   "codemirror_mode": {
    "name": "ipython",
    "version": 3
   },
   "file_extension": ".py",
   "mimetype": "text/x-python",
   "name": "python",
   "nbconvert_exporter": "python",
   "pygments_lexer": "ipython3",
   "version": "3.13.2"
  }
 },
 "nbformat": 4,
 "nbformat_minor": 2
}
