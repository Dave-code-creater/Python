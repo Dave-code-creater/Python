{
 "cells": [
  {
   "cell_type": "markdown",
   "metadata": {},
   "source": [
    "# Introduction to Python\n",
    "\n",
    "Python is a high-level, interpreted programming language known for its simplicity and readability. Created by Guido van Rossum and first released in 1991, Python has a design philosophy that emphasizes code readability and a syntax that allows programmers to express concepts in fewer lines of code.\n",
    "\n",
    "## Key Features of Python\n",
    "\n",
    "- **Easy to Learn and Use**: Python's syntax is clear and easy to understand, making it an excellent choice for beginners.\n",
    "- **Interpreted Language**: Python code is executed line by line, which makes debugging easier.\n",
    "- **Versatile**: Python can be used for web development, data analysis, artificial intelligence, scientific computing, and more.\n",
    "- **Extensive Libraries**: Python has a rich set of libraries and frameworks that facilitate various types of programming tasks.\n",
    "- **Community Support**: Python has a large and active community that contributes to its development and provides support to other users.\n",
    "\n",
    "## Getting Started with Python\n",
    "\n",
    "To start coding in Python, you need to install the Python interpreter and an Integrated Development Environment (IDE) or text editor. Popular choices include PyCharm, VSCode, and Jupyter Notebook."
   ]
  },
  {
   "cell_type": "code",
   "execution_count": null,
   "metadata": {},
   "outputs": [],
   "source": [
    "# Print Hello, World!\n",
    "print(\"Hello, World!\")\n",
    "\n",
    "# Perform a simple arithmetic operation\n",
    "a = 10\n",
    "b = 5\n",
    "sum = a + b\n",
    "print(\"The sum of\", a, \"and\", b, \"is\", sum)"
   ]
  },
  {
   "cell_type": "code",
   "execution_count": null,
   "metadata": {},
   "outputs": [],
   "source": [
    "# Number operations\n",
    "x = 10\n",
    "y = 3\n",
    "print(\"\\nNumbers: x =\", x, \", y =\", y)\n",
    "print(\"Addition:\", x + y)\n",
    "print(\"Subtraction:\", x - y)\n",
    "print(\"Multiplication:\", x * y)\n",
    "print(\"Division:\", x / y)\n",
    "print(\"Floor Division:\", x // y)\n",
    "print(\"Modulus:\", x % y)\n",
    "print(\"Exponentiation:\", x ** y)"
   ]
  },
  {
   "cell_type": "code",
   "execution_count": null,
   "metadata": {},
   "outputs": [],
   "source": [
    "# String operations\n",
    "my_string = \"Hello, Python!\"\n",
    "print(\"Original String:\", my_string)\n",
    "print(\"Uppercase:\", my_string.upper())\n",
    "print(\"Lowercase:\", my_string.lower())\n",
    "print(\"Replace 'Python' with 'World':\", my_string.replace(\"Python\", \"World\"))\n",
    "print(\"Split string:\", my_string.split(\",\"))\n"
   ]
  },
  {
   "cell_type": "code",
   "execution_count": null,
   "metadata": {},
   "outputs": [],
   "source": [
    "\n",
    "# List operations\n",
    "my_list = [1, 2, 3, 4, 5]\n",
    "print(\"\\nOriginal List:\", my_list)\n",
    "my_list.append(6)\n",
    "print(\"List after appending 6:\", my_list)\n",
    "my_list.remove(3)\n",
    "print(\"List after removing 3:\", my_list)\n",
    "print(\"List slicing (first 3 elements):\", my_list[:3])\n",
    "print(\"List reversed:\", my_list[::-1])\n",
    "\n"
   ]
  },
  {
   "cell_type": "code",
   "execution_count": null,
   "metadata": {},
   "outputs": [],
   "source": [
    "class Person:\n",
    "    def __init__(self, name, age):\n",
    "        self.name = name\n",
    "        self.age = age\n",
    "\n",
    "    def greet(self):\n",
    "        return f\"Hello, my name is {self.name} and I am {self.age} years old.\"\n",
    "\n",
    "# Create an instance of the Person class\n",
    "person1 = Person(\"Alice\", 30)\n",
    "print(person1.greet())"
   ]
  },
  {
   "cell_type": "code",
   "execution_count": null,
   "metadata": {},
   "outputs": [],
   "source": [
    "import numpy as np\n",
    "import pandas as pd\n",
    "\n",
    "# Create a numpy array\n",
    "array = np.array([1, 2, 3, 4, 5])\n",
    "print(\"Numpy Array:\", array)\n",
    "\n",
    "# Create a pandas dataframe\n",
    "df = pd.DataFrame({'Name': ['Alice', 'Bob', 'Charlie'], 'Age': [25, 30, 35]})\n",
    "print(\"\\nPandas DataFrame:\\n\", df)"
   ]
  },
  {
   "cell_type": "code",
   "execution_count": null,
   "metadata": {},
   "outputs": [],
   "source": []
  },
  {
   "cell_type": "code",
   "execution_count": null,
   "metadata": {},
   "outputs": [],
   "source": []
  },
  {
   "cell_type": "code",
   "execution_count": null,
   "metadata": {},
   "outputs": [],
   "source": []
  }
 ],
 "metadata": {
  "kernelspec": {
   "display_name": "Python 3",
   "language": "python",
   "name": "python3"
  },
  "language_info": {
   "name": "python",
   "version": "3.13.1"
  }
 },
 "nbformat": 4,
 "nbformat_minor": 2
}
