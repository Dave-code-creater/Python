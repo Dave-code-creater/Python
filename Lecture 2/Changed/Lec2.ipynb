{
 "cells": [
  {
   "cell_type": "markdown",
   "id": "77e48800",
   "metadata": {},
   "source": [
    "# Week 2: Introduction to Python\n",
    "\n",
    "Python is a high-level, interpreted programming language known for its readability and ease of use."
   ]
  },
  {
   "cell_type": "markdown",
   "id": "c9cb4e12",
   "metadata": {},
   "source": [
    "## 1. Introduction\n",
    "- Python is dynamically typed and garbage-collected.\n",
    "- It supports multiple programming paradigms, including procedural, object-oriented, and functional programming.\n",
    "- Used in web development, data science, AI, automation, and more."
   ]
  },
  {
   "cell_type": "markdown",
   "id": "a501fd8c",
   "metadata": {},
   "source": [
    "## 2. Basic Syntax\n",
    "Let's look at some basic Python syntax and operations."
   ]
  },
  {
   "cell_type": "code",
   "execution_count": null,
   "id": "dcbe45e9",
   "metadata": {},
   "outputs": [],
   "source": [
    "print('Hello, World!')  # This prints a message to the console"
   ]
  },
  {
   "cell_type": "markdown",
   "id": "a01216cf",
   "metadata": {},
   "source": [
    "### Variables and Data Types\n",
    "Python supports different data types like integers, floats, strings, and booleans."
   ]
  },
  {
   "cell_type": "code",
   "execution_count": null,
   "id": "8ffbcf02",
   "metadata": {},
   "outputs": [],
   "source": [
    "\n",
    "# Variable declaration\n",
    "x = 10        # Integer\n",
    "y = 3.14      # Float\n",
    "name = \"Dave\" # String\n",
    "is_active = True  # Boolean\n",
    "\n",
    "print(x, y, name, is_active)\n",
    "    "
   ]
  },
  {
   "cell_type": "markdown",
   "id": "3a4acd1c",
   "metadata": {},
   "source": [
    "## 3. Control Flow\n",
    "Python uses `if`, `for`, and `while` loops for control flow."
   ]
  },
  {
   "cell_type": "code",
   "execution_count": null,
   "id": "f62c72c8",
   "metadata": {},
   "outputs": [],
   "source": [
    "\n",
    "# If statement\n",
    "num = 10\n",
    "if num > 5:\n",
    "    print(\"Number is greater than 5\")\n",
    "elif num == 5:\n",
    "    print(\"Number is exactly 5\")\n",
    "else:\n",
    "    print(\"Number is less than 5\")\n",
    "    "
   ]
  },
  {
   "cell_type": "code",
   "execution_count": null,
   "id": "28152a61",
   "metadata": {},
   "outputs": [],
   "source": [
    "\n",
    "# Looping through a range of numbers\n",
    "for i in range(5):\n",
    "    print(\"Iteration:\", i)\n",
    "    "
   ]
  },
  {
   "cell_type": "code",
   "execution_count": null,
   "id": "2ea7bb54",
   "metadata": {},
   "outputs": [],
   "source": [
    "\n",
    "# While loop\n",
    "count = 0\n",
    "while count < 3:\n",
    "    print(\"Count:\", count)\n",
    "    count += 1\n",
    "    "
   ]
  },
  {
   "cell_type": "markdown",
   "id": "1f52d279",
   "metadata": {},
   "source": [
    "## 4. Functions\n",
    "Functions in Python are defined using the `def` keyword."
   ]
  },
  {
   "cell_type": "code",
   "execution_count": null,
   "id": "f63e4935",
   "metadata": {},
   "outputs": [],
   "source": [
    "\n",
    "def greet(name):\n",
    "    return f\"Hello, {name}!\"\n",
    "\n",
    "print(greet(\"Dave\"))\n",
    "    "
   ]
  },
  {
   "cell_type": "markdown",
   "id": "5ff4a711",
   "metadata": {},
   "source": [
    "## 5. Tasks\n",
    "**Try these exercises:**\n",
    "1. Write a Python program that takes user input and prints it.\n",
    "2. Create a function that calculates the sum of two numbers.\n",
    "3. Write a loop that prints even numbers from 1 to 20."
   ]
  }
 ],
 "metadata": {
  "kernelspec": {
   "display_name": "Python 3",
   "language": "python",
   "name": "python3"
  },
  "language_info": {
   "name": "python",
   "version": "3.9.21"
  }
 },
 "nbformat": 4,
 "nbformat_minor": 5
}
