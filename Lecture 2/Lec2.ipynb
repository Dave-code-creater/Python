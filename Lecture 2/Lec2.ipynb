{
 "cells": [
  {
   "cell_type": "markdown",
   "id": "bb8ad114",
   "metadata": {},
   "source": [
    "# Introduction to Object-Oriented Programming (OOP) in Python\n",
    "\n",
    "Object-Oriented Programming (OOP) is a programming paradigm that uses objects and classes to structure software programs. Python, being an object-oriented language, allows developers to create classes and objects to model real-world entities and relationships.\n",
    "\n",
    "## Key Concepts of OOP in Python\n",
    "\n",
    "1. **Class**: A blueprint for creating objects. It defines a set of attributes and methods that the created objects will have.\n",
    "2. **Object**: An instance of a class. It is created using the class and can have its own unique data.\n",
    "3. **Inheritance**: A mechanism where a new class inherits attributes and methods from an existing class.\n",
    "4. **Encapsulation**: The practice of hiding the internal state and requiring all interaction to be performed through an object's methods.\n",
    "5. **Polymorphism**: The ability to present the same interface for different underlying forms (data types).\n",
    "\n",
    "By using OOP, Python developers can write more modular, reusable, and maintainable code."
   ]
  },
  {
   "cell_type": "code",
   "execution_count": 2,
   "id": "553892b5",
   "metadata": {},
   "outputs": [],
   "source": [
    "# Here is a way you define a class\n",
    "class Dog():\n",
    "    # This is a constructor\n",
    "    def __init__(self, name, age):\n",
    "        self.name = name\n",
    "        self.age = age\n",
    "    # This is a method\n",
    "    def bark(self):\n",
    "        print(\"Woof! Woof!\")\n",
    "\n",
    "    def get_name(self):\n",
    "        return self.name\n",
    "\n",
    "    def get_age(self):\n",
    "        return self.age"
   ]
  },
  {
   "cell_type": "code",
   "execution_count": 3,
   "id": "4ec8a452",
   "metadata": {},
   "outputs": [
    {
     "name": "stdout",
     "output_type": "stream",
     "text": [
      "Woof! Woof!\n",
      "Rex\n"
     ]
    }
   ],
   "source": [
    "# Here is how you create an instance of an object\n",
    "dog = Dog(\"Rex\", 2)\n",
    "dog.bark()\n",
    "print(dog.get_name())"
   ]
  },
  {
   "cell_type": "code",
   "execution_count": 6,
   "id": "bcc17f4d",
   "metadata": {},
   "outputs": [
    {
     "name": "stdout",
     "output_type": "stream",
     "text": [
      "Fluffy\n",
      "white\n"
     ]
    }
   ],
   "source": [
    "# You can apply the knowlege of other programming languages to Python\n",
    "# For example, you can use inheritance\n",
    "class Poodle(Dog):\n",
    "    def __init__(self, name, age, color):\n",
    "        super().__init__(name, age)\n",
    "        self.color = color\n",
    "\n",
    "    def get_color(self):\n",
    "        return self.color\n",
    "    \n",
    "\n",
    "poodle = Poodle(\"Fluffy\", 3, \"white\")\n",
    "print(poodle.get_name(), poodle.get_color(), sep=\"\\n\")"
   ]
  },
  {
   "cell_type": "code",
   "execution_count": null,
   "id": "8f7326df",
   "metadata": {},
   "outputs": [
    {
     "name": "stdout",
     "output_type": "stream",
     "text": [
      "Flapping wings!\n",
      "Engines roaring!\n"
     ]
    }
   ],
   "source": [
    "# You can also use polymorphism\n",
    "class Bird:\n",
    "    def fly(self):\n",
    "        return \"Flapping wings!\"\n",
    "\n",
    "class Airplane:\n",
    "    def fly(self):\n",
    "        return \"Engines roaring!\"\n",
    "\n",
    "def make_it_fly(flying_object):\n",
    "    print(flying_object.fly())\n",
    "\n",
    "bird = Bird()\n",
    "plane = Airplane()\n",
    "\n",
    "make_it_fly(bird)\n",
    "make_it_fly(plane)\n"
   ]
  },
  {
   "cell_type": "code",
   "execution_count": 24,
   "id": "2233ed5d",
   "metadata": {},
   "outputs": [],
   "source": [
    "# You can also use encapsulation\n",
    "class Encapsulation:\n",
    "    def __init__(self):\n",
    "        self.__private = 12\n",
    "\n",
    "    @property\n",
    "    def get_private(self):\n",
    "        return self.__private\n",
    "    \n",
    "    @get_private.setter\n",
    "    def set_private(self, value):\n",
    "        self.__private = value\n",
    "\n"
   ]
  },
  {
   "cell_type": "code",
   "execution_count": 25,
   "id": "67ff9b81",
   "metadata": {},
   "outputs": [
    {
     "name": "stdout",
     "output_type": "stream",
     "text": [
      "42\n"
     ]
    }
   ],
   "source": [
    "obj = Encapsulation()\n",
    "obj.private = 42  # Setting the value\n",
    "print(obj.private)  # Output: 42"
   ]
  },
  {
   "cell_type": "code",
   "execution_count": null,
   "id": "a758a3cf",
   "metadata": {},
   "outputs": [
    {
     "name": "stdout",
     "output_type": "stream",
     "text": [
      "Doing something!\n"
     ]
    }
   ],
   "source": [
    "# And finally, you can use abstraction\n",
    "from abc import ABC, abstractmethod\n",
    "\n",
    "class AbstractClass(ABC):\n",
    "    @abstractmethod\n",
    "    def do_something(self):\n",
    "        pass\n",
    "\n",
    "class ConcreteClass(AbstractClass):\n",
    "    def do_something(self):\n",
    "        print(\"Doing something!\")\n",
    "\n",
    "obj = ConcreteClass()"
   ]
  },
  {
   "cell_type": "markdown",
   "id": "f9949bfa",
   "metadata": {},
   "source": [
    "```markdown\n",
    "## Conclusion\n",
    "\n",
    "Classes in Python are a fundamental aspect of Object-Oriented Programming (OOP). They provide a blueprint for creating objects, encapsulating data, and defining behaviors through methods. By using classes, developers can create modular, reusable, and maintainable code. Key concepts such as inheritance, polymorphism, encapsulation, and abstraction allow for more sophisticated and flexible program design. Understanding and utilizing these concepts can greatly enhance the efficiency and readability of your code.\n",
    "```"
   ]
  }
 ],
 "metadata": {
  "kernelspec": {
   "display_name": "venv",
   "language": "python",
   "name": "python3"
  },
  "language_info": {
   "codemirror_mode": {
    "name": "ipython",
    "version": 3
   },
   "file_extension": ".py",
   "mimetype": "text/x-python",
   "name": "python",
   "nbconvert_exporter": "python",
   "pygments_lexer": "ipython3",
   "version": "3.13.2"
  }
 },
 "nbformat": 4,
 "nbformat_minor": 5
}
