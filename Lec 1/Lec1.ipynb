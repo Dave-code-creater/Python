{
 "cells": [
  {
   "cell_type": "markdown",
   "metadata": {},
   "source": [
    "# Hello Python"
   ]
  },
  {
   "cell_type": "markdown",
   "metadata": {},
   "source": [
    "## Our every first command is print()"
   ]
  },
  {
   "cell_type": "markdown",
   "metadata": {},
   "source": [
    "### In python, we want to print something to the terminal or console, we can use \"print()\" function\n",
    "### Syntax: print(\"string\")\n"
   ]
  },
  {
   "cell_type": "code",
   "execution_count": 2,
   "metadata": {},
   "outputs": [
    {
     "name": "stdout",
     "output_type": "stream",
     "text": [
      "Hello, World!\n",
      "Python is easy to learn\n",
      "I am learning python\n"
     ]
    }
   ],
   "source": [
    "# Example\n",
    "print(\"Hello, World!\")\n",
    "print(\"Python is easy to learn\")\n",
    "print(\"I am learning python\")"
   ]
  },
  {
   "cell_type": "markdown",
   "metadata": {},
   "source": [
    "### Variables\n",
    "### Variables are used to store data that can be used later in the program\n",
    "### In python, we can create a variable and assign a value to it using the assignment operator (=)\n",
    "### Syntax: variable_name = value\n"
   ]
  },
  {
   "cell_type": "code",
   "execution_count": 3,
   "metadata": {},
   "outputs": [
    {
     "name": "stdout",
     "output_type": "stream",
     "text": [
      "John Doe\n",
      "25\n"
     ]
    }
   ],
   "source": [
    "# Example\n",
    "name = \"John Doe\"\n",
    "age = 25\n",
    "print(name)\n",
    "print(age)"
   ]
  },
  {
   "cell_type": "code",
   "execution_count": 4,
   "metadata": {},
   "outputs": [
    {
     "name": "stdout",
     "output_type": "stream",
     "text": [
      "John Doe\n",
      "25\n"
     ]
    }
   ],
   "source": [
    "# or you can create multiple variables in one line\n",
    "name, age = \"John Doe\", 25\n",
    "print(name)\n",
    "print(age)"
   ]
  },
  {
   "cell_type": "markdown",
   "metadata": {},
   "source": [
    "Python allows a various type of declarations. As longs as it follow by the assigment operator (=), then it variable, and value"
   ]
  },
  {
   "cell_type": "markdown",
   "metadata": {},
   "source": [
    "### Data Types\n",
    "### Python supports various data types including integers, floats, strings, booleans, and more.\n",
    "### The type of a variable can be checked using the \"type()\" function."
   ]
  },
  {
   "cell_type": "code",
   "execution_count": 1,
   "metadata": {},
   "outputs": [
    {
     "name": "stdout",
     "output_type": "stream",
     "text": [
      "<class 'int'>\n",
      "<class 'float'>\n",
      "<class 'str'>\n",
      "<class 'bool'>\n"
     ]
    }
   ],
   "source": [
    "# Example\n",
    "num = 10\n",
    "pi = 3.14\n",
    "name = \"John\"\n",
    "is_student = True\n",
    "\n",
    "print(type(num))  # Output: <class 'int'>\n",
    "print(type(pi))   # Output: <class 'float'>\n",
    "print(type(name)) # Output: <class 'str'>\n",
    "print(type(is_student)) # Output: <class 'bool'>"
   ]
  },
  {
   "cell_type": "markdown",
   "metadata": {},
   "source": [
    "### Basic Operations\n",
    "### Python supports various arithmetic and logical operations."
   ]
  },
  {
   "cell_type": "code",
   "execution_count": 2,
   "metadata": {},
   "outputs": [
    {
     "name": "stdout",
     "output_type": "stream",
     "text": [
      "Sum: 15\n",
      "Difference: 5\n",
      "Product: 50\n",
      "Division: 2.0\n",
      "Exponentiation: 100000\n",
      "Modulus: 0\n"
     ]
    }
   ],
   "source": [
    "# Example\n",
    "a = 10\n",
    "b = 5\n",
    "\n",
    "print(\"Sum:\", a + b)          # Output: Sum: 15\n",
    "print(\"Difference:\", a - b)   # Output: Difference: 5\n",
    "print(\"Product:\", a * b)      # Output: Product: 50\n",
    "print(\"Division:\", a / b)     # Output: Division: 2.0\n",
    "print(\"Exponentiation:\", a ** b) # Output: Exponentiation: 100000\n",
    "print(\"Modulus:\", a % b)      # Output: Modulus: 0"
   ]
  },
  {
   "cell_type": "markdown",
   "metadata": {},
   "source": [
    "### Conclusion\n",
    "### In this tutorial, we covered the basics of Python including printing to the console, declaring variables, data types, and basic operations.\n",
    "### Python's simplicity and readability make it a great language for beginners to start with.\n",
    "### Happy coding!\n",
    "\n",
    "# Next Steps:\n",
    "# - Practice writing more Python programs.\n",
    "# - Explore Python's documentation and online tutorials.\n",
    "# - Join Python communities to connect with other learners and seek help when needed."
   ]
  }
 ],
 "metadata": {
  "kernelspec": {
   "display_name": "Python 3",
   "language": "python",
   "name": "python3"
  },
  "language_info": {
   "codemirror_mode": {
    "name": "ipython",
    "version": 3
   },
   "file_extension": ".py",
   "mimetype": "text/x-python",
   "name": "python",
   "nbconvert_exporter": "python",
   "pygments_lexer": "ipython3",
   "version": "3.12.3"
  }
 },
 "nbformat": 4,
 "nbformat_minor": 2
}
